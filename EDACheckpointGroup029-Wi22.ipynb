{
 "cells": [
  {
   "cell_type": "markdown",
   "metadata": {},
   "source": [
    "# COGS 108 - EDA Checkpoint"
   ]
  },
  {
   "cell_type": "markdown",
   "metadata": {},
   "source": [
    "# Names\n",
    "\n",
    "- Clara Yi\n",
    "- Ernest Lin\n",
    "- Wesley Nguyen\n",
    "- Ethan Lee\n",
    "- Stephen Kim"
   ]
  },
  {
   "cell_type": "markdown",
   "metadata": {},
   "source": [
    "<a id='research_question'></a>\n",
    "# Research Question"
   ]
  },
  {
   "cell_type": "markdown",
   "metadata": {},
   "source": [
    "Do the macroscopic socioeconomic features of a state, specifically median income, percentage of population without health insurance, and prevalence of blue collar workers, have a correlation to COVID mortality rate in 2020-2021?"
   ]
  },
  {
   "cell_type": "markdown",
   "metadata": {},
   "source": [
    "# Setup"
   ]
  },
  {
   "cell_type": "code",
   "execution_count": null,
   "metadata": {},
   "outputs": [],
   "source": [
    "!pip3 install pandas\n",
    "!pip install pandas\n",
    "!pip3 install matplotlib\n",
    "!pip3 install seaborn\n",
    "!pip3 install openpyxl\n",
    "\n",
    "import pandas as pd\n",
    "import numpy as np\n",
    "import matplotlib.pyplot as plt\n",
    "import seaborn as sns"
   ]
  },
  {
   "cell_type": "markdown",
   "metadata": {},
   "source": [
    "# Data Cleaning"
   ]
  },
  {
   "cell_type": "markdown",
   "metadata": {},
   "source": [
    "## Dataset 1 (COVID)\n",
    "- With the imported data, we removed unncessary states. We only want the 50 states not including territories or DC\n",
    "- We then removed the columns that we didn't need for analysis. We did this by selecting the columns that we needed\n",
    "- We also wanted the dates to appear in a sortable/searchable way, so we made the dates arranged in yyyy-mm-dd format\n",
    "- The data was then saved as a csv file.\n",
    "\n",
    "**Note**: Since the data is arranged by date, we created a function ```read_covid_data``` that will return the 50 states with their respective data for just that specified date"
   ]
  },
  {
   "cell_type": "markdown",
   "metadata": {},
   "source": [
    "## Dataset 1 Code"
   ]
  },
  {
   "cell_type": "code",
   "execution_count": 2,
   "metadata": {},
   "outputs": [],
   "source": [
    "# Cleaning State Data\n",
    "def clean_covid_data():\n",
    "    # Date Closure\n",
    "    def apply_date(date: str) -> str:\n",
    "        split_date = date.split(\"/\")\n",
    "        return \"/\".join([split_date[2], split_date[0], split_date[1]])\n",
    "        \n",
    "    \n",
    "    # Read the data (already in tabular form)\n",
    "    covid_data_url = r\"./Raw Data/United_States_COVID-19_Cases_and_Deaths_by_State_over_Time.csv\"\n",
    "    covid_data = pd.read_csv(covid_data_url)\n",
    "    \n",
    "    # States we will not be looking at (These aren't part of the 50 states)\n",
    "    remove_states = [\"RMI\", \"FSM\", \"GU\", \"MP\", \"PW\", \"NYC\", \"PR\", \"AS\", \"VI\", \"DC\"]\n",
    "    covid_data = covid_data[~covid_data[\"state\"].isin(remove_states)]\n",
    "    \n",
    "    # Remove columns we don't need\n",
    "    covid_data = covid_data[[\"submission_date\", \"state\", \"tot_cases\", \"tot_death\"]]\n",
    "    \n",
    "    # Change Date format to allow for easier sorting\n",
    "    covid_data[\"submission_date\"] = covid_data[\"submission_date\"].apply(apply_date)\n",
    "    \n",
    "    # Sort Date\n",
    "    covid_data.sort_values(\"submission_date\", inplace=True, ascending=False)\n",
    "    covid_data.reset_index(inplace=True, drop=True)\n",
    "    \n",
    "    # Save Data\n",
    "    clean_covid_data_url = r\".\\Cleaned Data\\state_covid_data.csv\"\n",
    "    covid_data.to_csv(clean_covid_data_url, index=False)\n",
    "    \n",
    "clean_covid_data()"
   ]
  },
  {
   "cell_type": "code",
   "execution_count": 4,
   "metadata": {},
   "outputs": [],
   "source": [
    "def read_covid_data(month: int, day: int, year: int):\n",
    "    #retrieve cleaned csv\n",
    "    covid_data_url = r\".\\Cleaned Data\\state_covid_data.csv\"\n",
    "    covid_data = pd.read_csv(covid_data_url)\n",
    "    \n",
    "    #reformat date parameter to match data values in csv, then get all data from specific date\n",
    "    date_filter = formatDate(month, day, year)\n",
    "    covid_data = covid_data[covid_data[\"submission_date\"] == date_filter]\n",
    "    covid_data.sort_values(\"state\", inplace=True)\n",
    "    covid_data.reset_index(inplace=True, drop=True)\n",
    "    \n",
    "    return covid_data\n",
    "\n",
    "def formatPreZero(num: int) -> str:\n",
    "\n",
    "    #adds '0' char to any integer less than 10 to match formatting\n",
    "    if num >= 10:\n",
    "        return str(num)\n",
    "    \n",
    "    return \"0\" + str(num)\n",
    "    \n",
    "#reformat date parameter to match data values in csv    \n",
    "def formatDate(month: int,  day: int, year: int) -> str:\n",
    "    return f\"{year}/{formatPreZero(month)}/{formatPreZero(day)}\""
   ]
  },
  {
   "cell_type": "markdown",
   "metadata": {},
   "source": [
    "## Dataset 2 (Labor)\n",
    "- The raw data file for Dataset 2 is an excel file. The format of the data was not organized in a way that complements dataframes, so we had a lot of unnecessary texts in the excel\n",
    "read as data entries as well. \n",
    "- Our first step was to identify the columns and rows that we want, which are the 50 states. We removed unnecessary states (including U.S. territories) and removed all the extra\n",
    "non-state entries that were read as rows.\n",
    "- Another problem is that some names in the State column had some footnote numbers that were unintentionally read from the excel sheet. We solved this by removing all occurences of numbers and parentheses from the State column.\n",
    "- Since other datasets use state codes and the original data uses state names, we had to transform state names in the States column to their corresponding state codes. We did this by defining a function ```to_state_code``` that uses a dictionary to map each state name to their state code.\n",
    "- We had to reorganize the structure of the dataframe, as the original file had the data stacked on top of each other so each state had 3 rows in the Dataframe. We did so by separating the \n",
    "raw dataframe into three different dataframes, and then combining them into a single dataframe so we only have 50 rows.\n",
    "- We then removed unnessary columns, such as data from other time periods (Our focus was December of 2020). We also combined the columns of job sectors into two groups relevant to our analysis: Blue collar (construction, mining, trade, leisure) and White collar (Financial, professional, education, government) jobs.\n",
    "- Our final step for Dataset 3 is to export the cleaned dataset as a csv and save it to the \"Cleaned Data\" folder."
   ]
  },
  {
   "cell_type": "markdown",
   "metadata": {},
   "source": [
    "## Dataset 2 Code"
   ]
  },
  {
   "cell_type": "code",
   "execution_count": 5,
   "metadata": {},
   "outputs": [],
   "source": [
    "#Copied from https://gist.github.com/rogerallen/1583593\n",
    "us_state_to_abbrev = {\n",
    "    \"Alabama\": \"AL\",\n",
    "    \"Alaska\": \"AK\",\n",
    "    \"Arizona\": \"AZ\",\n",
    "    \"Arkansas\": \"AR\",\n",
    "    \"California\": \"CA\",\n",
    "    \"Colorado\": \"CO\",\n",
    "    \"Connecticut\": \"CT\",\n",
    "    \"Delaware\": \"DE\",\n",
    "    \"Florida\": \"FL\",\n",
    "    \"Georgia\": \"GA\",\n",
    "    \"Hawaii\": \"HI\",\n",
    "    \"Idaho\": \"ID\",\n",
    "    \"Illinois\": \"IL\",\n",
    "    \"Indiana\": \"IN\",\n",
    "    \"Iowa\": \"IA\",\n",
    "    \"Kansas\": \"KS\",\n",
    "    \"Kentucky\": \"KY\",\n",
    "    \"Louisiana\": \"LA\",\n",
    "    \"Maine\": \"ME\",\n",
    "    \"Maryland\": \"MD\",\n",
    "    \"Massachusetts\": \"MA\",\n",
    "    \"Michigan\": \"MI\",\n",
    "    \"Minnesota\": \"MN\",\n",
    "    \"Mississippi\": \"MS\",\n",
    "    \"Missouri\": \"MO\",\n",
    "    \"Montana\": \"MT\",\n",
    "    \"Nebraska\": \"NE\",\n",
    "    \"Nevada\": \"NV\",\n",
    "    \"New Hampshire\": \"NH\",\n",
    "    \"New Jersey\": \"NJ\",\n",
    "    \"New Mexico\": \"NM\",\n",
    "    \"New York\": \"NY\",\n",
    "    \"North Carolina\": \"NC\",\n",
    "    \"North Dakota\": \"ND\",\n",
    "    \"Ohio\": \"OH\",\n",
    "    \"Oklahoma\": \"OK\",\n",
    "    \"Oregon\": \"OR\",\n",
    "    \"Pennsylvania\": \"PA\",\n",
    "    \"Rhode Island\": \"RI\",\n",
    "    \"South Carolina\": \"SC\",\n",
    "    \"South Dakota\": \"SD\",\n",
    "    \"Tennessee\": \"TN\",\n",
    "    \"Texas\": \"TX\",\n",
    "    \"Utah\": \"UT\",\n",
    "    \"Vermont\": \"VT\",\n",
    "    \"Virginia\": \"VA\",\n",
    "    \"Washington\": \"WA\",\n",
    "    \"West Virginia\": \"WV\",\n",
    "    \"Wisconsin\": \"WI\",\n",
    "    \"Wyoming\": \"WY\",\n",
    "    \"District of Columbia\": \"DC\",\n",
    "    \"American Samoa\": \"AS\",\n",
    "    \"Guam\": \"GU\",\n",
    "    \"Northern Mariana Islands\": \"MP\",\n",
    "    \"Puerto Rico\": \"PR\",\n",
    "    \"United States Minor Outlying Islands\": \"UM\",\n",
    "    \"U.S. Virgin Islands\": \"VI\",\n",
    "}\n",
    "\n",
    "def to_state_code(state_name):\n",
    "    return us_state_to_abbrev[state_name]"
   ]
  },
  {
   "cell_type": "code",
   "execution_count": 12,
   "metadata": {},
   "outputs": [
    {
     "name": "stderr",
     "output_type": "stream",
     "text": [
      "C:\\Users\\Stephen\\AppData\\Local\\Temp\\ipykernel_16828\\3056115454.py:20: FutureWarning: The default value of regex will change from True to False in a future version.\n",
      "  raw_labor_data[\"State\"] = raw_labor_data[\"State\"].str.replace('\\d+', '')\n",
      "C:\\Users\\Stephen\\AppData\\Local\\Temp\\ipykernel_16828\\3056115454.py:21: FutureWarning: The default value of regex will change from True to False in a future version. In addition, single character regular expressions will *not* be treated as literal strings when regex=True.\n",
      "  raw_labor_data[\"State\"] = raw_labor_data[\"State\"].str.replace('(', '')\n",
      "C:\\Users\\Stephen\\AppData\\Local\\Temp\\ipykernel_16828\\3056115454.py:22: FutureWarning: The default value of regex will change from True to False in a future version. In addition, single character regular expressions will *not* be treated as literal strings when regex=True.\n",
      "  raw_labor_data[\"State\"] = raw_labor_data[\"State\"].str.replace(')', '')\n"
     ]
    }
   ],
   "source": [
    "def clean_labor_data():\n",
    "    #Read excel file, renames first column to States and take out null rows\n",
    "    raw_labor_data = pd.read_excel(\"./Raw Data/labor_dataset_raw.xlsx\", header = 4)\n",
    "    raw_labor_data.rename(columns={\"Unnamed: 0\": \"State\"}, inplace=True)\n",
    "    raw_labor_data = raw_labor_data.dropna()\n",
    "\n",
    "    #Take out data from 2021 and only keep 2020\n",
    "    raw_labor_data = raw_labor_data[[\"State\", \"Dec.\\n2020\", \"Dec.\\n2020.1\", \"Dec.\\n2020.2\"]]\n",
    "    \n",
    "    non_states = [\"Virgin Islands\", \"District of Columbia\", \"Puerto Rico\"]\n",
    "\n",
    "    #Removes all non official states from dataset\n",
    "    for region in non_states:\n",
    "        raw_labor_data = raw_labor_data[raw_labor_data[\"State\"].str.contains(region)==False]\n",
    "\n",
    "    #Reset index to start at 0\n",
    "    raw_labor_data = raw_labor_data.reset_index(drop = True)\n",
    "\n",
    "    #eliminated extra characters in state names\n",
    "    raw_labor_data[\"State\"] = raw_labor_data[\"State\"].str.replace('\\d+', '', regex=True)\n",
    "    raw_labor_data[\"State\"] = raw_labor_data[\"State\"].str.replace('(', '', regex=True)\n",
    "    raw_labor_data[\"State\"] = raw_labor_data[\"State\"].str.replace(')', '', regex=True)\n",
    "\n",
    "    #Convert state names into codes (First two letters of each state name)\n",
    "    raw_labor_data[\"State\"] = raw_labor_data[\"State\"].apply(lambda state_name: us_state_to_abbrev[state_name])\n",
    "\n",
    "    #Original raw data has different columns stacked on top of each row, so we need to reorder the dataset.\n",
    "    #Block 1 contains total, constructing and mining data\n",
    "    block1 = raw_labor_data[:50]\n",
    "    block1.columns = [\"State\", \"Total\", \"Constructing\", \"Mining\"]\n",
    "\n",
    "    #Block 2 contains Trade, Financial and Professional\n",
    "    block2 = raw_labor_data[50:100]\n",
    "    block2.columns = [\"State\", \"Trade\", \"Financial\", \"Professional\"]\n",
    "\n",
    "    #Block 3 contains Education, Leisure and Government\n",
    "    block3 = raw_labor_data[100:]\n",
    "    block3.columns = [\"State\", \"Education\", \"Leisure\", \"Gov\"]\n",
    "\n",
    "    #merge all blocks into one dataframe\n",
    "    labor_data = block1.merge(block2, on=\"State\")\n",
    "    labor_data = labor_data.merge(block3, on=\"State\")\n",
    "\n",
    "    #We only need data on white collar and blue collar, so we can combine each job sector to their respective group.\n",
    "    labor_data[\"Blue_col\"] = labor_data[\"Constructing\"] + labor_data[\"Mining\"] + labor_data[\"Trade\"] + labor_data[\"Leisure\"]\n",
    "    labor_data[\"White_col\"] = labor_data[\"Financial\"] + labor_data[\"Professional\"] + labor_data[\"Education\"] + labor_data[\"Gov\"]\n",
    "\n",
    "    #Get rid of all other columns except State, White_col, Blue_col and Total\n",
    "    labor_data.drop(columns = [\"Constructing\", \"Mining\", \"Trade\", \"Financial\", \"Professional\", \"Education\", \"Leisure\", \"Gov\"], inplace=True)\n",
    "    #export as csv\n",
    "    labor_data.columns = ['state','tot_jobs','blue_col','white_col']\n",
    "    labor_data.to_csv('./Cleaned Data/state_labor_data.csv')\n",
    "\n",
    "def get_labor_data():\n",
    "    labor_data_url = './Cleaned Data/state_labor_data.csv'\n",
    "    labor_data = pd.read_csv(labor_data_url)\n",
    "    return labor_data\n",
    "\n",
    "clean_labor_data()"
   ]
  },
  {
   "cell_type": "markdown",
   "metadata": {},
   "source": [
    "\n",
    "## Dataset 3 (Income/Insurance)\n",
    "- For Dataset 3, we have two primary steps in cleaning the data. The first step was manually inputting the data from the data sources to a CSV file via Google Sheets. This manual step was necessary due to the fact that the original data source did not have an option to directly extract/download the raw data. Since there were only 50 observations, we decided manual input was the best option. \n",
    "\n",
    "- Our second step for Dataset 3 was to import the data into this notebook. We uploaded the CSV file into our \"Raw Data\" folder, and then used read_csv to bring it into a dataframe, which is a usable format for our future analysis. After making sure there were no issues, we then saved it to the \"Cleaned Data\" folder."
   ]
  },
  {
   "cell_type": "markdown",
   "metadata": {},
   "source": [
    "## Dataset 3 Code"
   ]
  },
  {
   "cell_type": "code",
   "execution_count": 13,
   "metadata": {},
   "outputs": [],
   "source": [
    "def standardize_income(string):\n",
    "    string = string.strip()\n",
    "\n",
    "    string = string.replace(',', '')\n",
    "    return float(string)\n",
    "\n",
    "# Cleaning socioeconomic data\n",
    "def clean_socioeconomic_data():\n",
    "    socioeconomic_data_url = r'./Raw Data/socioeconomic_data.csv'\n",
    "    soci_data = pd.read_csv(socioeconomic_data_url)\n",
    "\n",
    "    #simplify columns and replace Median Household income values with floats\n",
    "    soci_data.columns = ['state', '%_no_insurance', 'median_income']\n",
    "    soci_data['median_income'] = soci_data['median_income'].apply(standardize_income)\n",
    "\n",
    "    soci_data['with_insurance'] = 100 - soci_data['%_no_insurance'] \n",
    "\n",
    "    # Saving to CSV\n",
    "    clean_socioeconomic_data_url = r\"./Cleaned Data/clean_socioeconomic_data.csv\"\n",
    "    soci_data.to_csv(clean_socioeconomic_data_url, index=False)\n",
    "    \n",
    "def get_socioeconomic_data():\n",
    "    clean_socioeconomic_data_url = r\"./Cleaned Data/clean_socioeconomic_data.csv\"\n",
    "    soci_data = pd.read_csv(clean_socioeconomic_data_url)\n",
    "    return soci_data\n",
    "\n",
    "clean_socioeconomic_data()"
   ]
  },
  {
   "cell_type": "markdown",
   "metadata": {},
   "source": [
    "# Data Analysis & Results (EDA)"
   ]
  },
  {
   "cell_type": "markdown",
   "metadata": {},
   "source": [
    "Carry out EDA on your dataset(s); Describe in this section"
   ]
  },
  {
   "cell_type": "code",
   "execution_count": null,
   "metadata": {},
   "outputs": [],
   "source": [
    "## YOUR CODE HERE\n",
    "## UNIVARIATE\n",
    "# scatter matrix between independent variables to see if there is indeed a correlation between each socioeconomic metric\n",
    "# scatterplot 1 (median_income vs mortality_rate) and (median_income vs infection_rate) (wesley)\n",
    "# scatterplot 2 (with_insurance vs morality_rate) and (with_insurance vs infection_rate) (wesley)\n",
    "# scatterplot 3 (white_collar vs mortality_rate) and (white_collar vs infection_rate) (ethan)\n",
    "# scatterplot 4 (alpha_coeff vs mortality_rate) and (alpha_coeff vs infection_rate) (clara)\n",
    "\n",
    "## MULTIVARIATE\n",
    "# linear regression for (mortality rate ~ median_income,with_insurance,white_collar) (stephen)\n",
    "# linear regression for (infection rate ~ median_income, with_insurance, white_collar) (ernest)\n",
    "\n",
    "column_1 = 'median income'\n",
    "column_2 = 'without insurance'\n",
    "column_3 = 'with insurance'\n",
    "column_4 = 'blue collar'\n",
    "column_5 = 'white collar'\n",
    "column_6 = 'number of infections'\n",
    "column_7 = 'number of deaths'\n",
    "column_8 = 'mortality rate'\n",
    "\n",
    "# state of california\n",
    "ca_median_income = 50000\n",
    "ca_without_insurance = 15\n",
    "ca_with_insurance = 100-15\n",
    "\n",
    "#blue = typically considered manual labor\n",
    "ca_blue_labor = 30\n",
    "ca_white_labor = 70\n",
    "\n",
    "#define socioeconomic coefficient (prosperity coefficient)\n",
    "def calculate_alpha(median_income, with_insurance, white_labor):\n",
    "    alpha = ((((median_income/100000)*0.3333)) + (with_insurance/100)*0.3333 + (white_labor/100)*0.3333)\n",
    "    return alpha\n",
    "    \n",
    "h_alpha = calculate_alpha(96400, 90, 90)\n",
    "\n",
    "l_alpha = calculate_alpha(1, 1, 1)\n",
    "\n",
    "\n",
    "print(h_alpha)\n",
    "print(l_alpha)\n",
    "#coefficient is some value between 0 and 1 based on each of the socioeconomic factors\n",
    "#california = 0.8\n",
    "#wyoming = 0.2\n",
    "\n",
    "#independent = coefficient\n",
    "#dependent = mortality rate\n",
    "#this way, we can see a direct correlation between general socioeconomic factors and mortality rate\n",
    "\n",
    "## linear regression, multivariate (variables taken separately)"
   ]
  },
  {
   "cell_type": "code",
   "execution_count": 20,
   "metadata": {},
   "outputs": [],
   "source": [
    "covid_data = read_covid_data(3, 15, 2021)\n",
    "soci_data = get_socioeconomic_data()\n",
    "labor_data = get_labor_data()\n",
    "\n",
    "overall_df = pd.merge(labor_data, soci_data, left_on='state', right_on='state')\n",
    "overall_df = pd.merge(overall_df, covid_data, left_on='state', right_on='state')\n",
    "overall_df.drop([\"Unnamed: 0\"], axis=\"columns\", inplace=True)\n",
    "overall_df.columns = ['state', 'total_jobs', 'blue_collar', 'white_collar', '%_no_insurance', 'median_income', \n",
    "                      '%_with_insurance', 'submission_date', 'total_cases', 'total_deaths']\n",
    "\n",
    "overall_df['%_mortality_rate'] = (overall_df['total_deaths'] / overall_df['total_cases']) * 100\n",
    "overall_df = overall_df[['state', 'total_jobs', 'blue_collar', 'white_collar', '%_no_insurance', '%_with_insurance', \n",
    "                         'median_income', 'submission_date', 'total_cases', 'total_deaths', '%_mortality_rate']]\n",
    "overall_df['%_blue_collar'] = overall_df['blue_collar'] / overall_df['total_jobs'] * 100\n",
    "overall_df['%_white_collar'] = overall_df['white_collar'] / overall_df['total_jobs'] * 100\n",
    "overall_df = overall_df[['state', 'total_jobs', 'blue_collar', '%_blue_collar', 'white_collar', '%_white_collar', \n",
    "                         '%_no_insurance', '%_with_insurance', 'median_income', 'submission_date', 'total_cases', \n",
    "                         'total_deaths', '%_mortality_rate']]"
   ]
  }
 ],
 "metadata": {
  "@webio": {
   "lastCommId": null,
   "lastKernelId": null
  },
  "interpreter": {
   "hash": "aee8b7b246df8f9039afb4144a1f6fd8d2ca17a180786b69acc140d282b71a49"
  },
  "kernelspec": {
   "display_name": "Python 3 (ipykernel)",
   "language": "python",
   "name": "python3"
  },
  "language_info": {
   "codemirror_mode": {
    "name": "ipython",
    "version": 3
   },
   "file_extension": ".py",
   "mimetype": "text/x-python",
   "name": "python",
   "nbconvert_exporter": "python",
   "pygments_lexer": "ipython3",
   "version": "3.9.5"
  }
 },
 "nbformat": 4,
 "nbformat_minor": 2
}
