{
 "cells": [
  {
   "cell_type": "markdown",
   "metadata": {},
   "source": [
    "# COGS 108 - EDA Checkpoint"
   ]
  },
  {
   "cell_type": "markdown",
   "metadata": {},
   "source": [
    "# Names\n",
    "\n",
    "- Clara Yi\n",
    "- Ernest Lin\n",
    "- Wesley Nguyen\n",
    "- Ethan Lee\n",
    "- Stephen Kim"
   ]
  },
  {
   "cell_type": "markdown",
   "metadata": {},
   "source": [
    "<a id='research_question'></a>\n",
    "# Research Question"
   ]
  },
  {
   "cell_type": "markdown",
   "metadata": {},
   "source": [
    "Do the macroscopic socioeconomic features of a state, specifically median income, percentage of population without health insurance, and prevalence of blue collar workers, have a correlation to COVID infection and mortality rates in 2020-2021?"
   ]
  },
  {
   "cell_type": "markdown",
   "metadata": {},
   "source": [
    "# Setup"
   ]
  },
  {
   "cell_type": "code",
   "execution_count": null,
   "metadata": {},
   "outputs": [],
   "source": [
    "# these installations are not directly related to our EDA, but the necessary packages throughout all steps of our project. There are EDA-specific installations later.\n",
    "# pip initial installation\n",
    "!pip3 install pandas\n",
    "!pip install pandas\n",
    "!pip3 install matplotlib\n",
    "!pip3 install seaborn\n",
    "!pip3 install openpyxl\n",
    "!pip3 install sklearn\n",
    "!pip3 install patsy \n",
    "!pip3 install statsmodels\n",
    "!pip3 install openpyxl\n",
    "\n",
    "#importing necessat libraries\n",
    "import pandas as pd\n",
    "import numpy as np\n",
    "import matplotlib.pyplot as plt\n",
    "import seaborn as sns"
   ]
  },
  {
   "cell_type": "markdown",
   "metadata": {},
   "source": [
    "# Data Cleaning"
   ]
  },
  {
   "cell_type": "markdown",
   "metadata": {},
   "source": [
    "## Dataset 1 (COVID)\n",
    "- With the imported data, we removed unncessary states. We only want the 50 states not including territories or DC\n",
    "- We then removed the columns that we didn't need for analysis. We did this by selecting the columns that we needed\n",
    "- We also wanted the dates to appear in a sortable/searchable way, so we made the dates arranged in yyyy-mm-dd format\n",
    "- The data was then saved as a csv file.\n",
    "\n",
    "**Note**: Since the data is arranged by date, we created a function ```read_covid_data``` that will return the 50 states with their respective data for just that specified date"
   ]
  },
  {
   "cell_type": "markdown",
   "metadata": {},
   "source": [
    "## Dataset 1 (COVID) Code"
   ]
  },
  {
   "cell_type": "code",
   "execution_count": null,
   "metadata": {},
   "outputs": [],
   "source": [
    "# Cleaning State Data\n",
    "def clean_covid_data():\n",
    "    # Date Closure\n",
    "    def apply_date(date: str) -> str:\n",
    "        split_date = date.split(\"/\")\n",
    "        return \"/\".join([split_date[2], split_date[0], split_date[1]])\n",
    "        \n",
    "    \n",
    "    # Read the data (already in tabular form)\n",
    "    covid_data_url = r\"./Raw Data/United_States_COVID-19_Cases_and_Deaths_by_State_over_Time.csv\"\n",
    "    covid_data = pd.read_csv(covid_data_url)\n",
    "    \n",
    "    # States we will not be looking at (These aren't part of the 50 states)\n",
    "    remove_states = [\"RMI\", \"FSM\", \"GU\", \"MP\", \"PW\", \"NYC\", \"PR\", \"AS\", \"VI\", \"DC\"]\n",
    "    covid_data = covid_data[~covid_data[\"state\"].isin(remove_states)]\n",
    "    \n",
    "    # Remove columns we don't need\n",
    "    covid_data = covid_data[[\"submission_date\", \"state\", \"tot_cases\", \"tot_death\"]]\n",
    "    \n",
    "    # Change Date format to allow for easier sorting\n",
    "    covid_data[\"submission_date\"] = covid_data[\"submission_date\"].apply(apply_date)\n",
    "    \n",
    "    # Sort Date\n",
    "    covid_data.sort_values(\"submission_date\", inplace=True, ascending=False)\n",
    "    covid_data.reset_index(inplace=True, drop=True)\n",
    "    \n",
    "    # Save Data\n",
    "    clean_covid_data_url = r\"Cleaned Data/state_covid_data.csv\"\n",
    "    covid_data.to_csv(clean_covid_data_url, index=False)\n",
    "    \n",
    "clean_covid_data()"
   ]
  },
  {
   "cell_type": "code",
   "execution_count": null,
   "metadata": {},
   "outputs": [],
   "source": [
    "def read_covid_data(month: int, day: int, year: int):\n",
    "    #retrieve cleaned csv\n",
    "    covid_data_url = r\"Cleaned Data/state_covid_data.csv\"\n",
    "    covid_data = pd.read_csv(covid_data_url)\n",
    "    \n",
    "    #reformat date parameter to match data values in csv, then get all data from specific date\n",
    "    date_filter = formatDate(month, day, year)\n",
    "    covid_data = covid_data[covid_data[\"submission_date\"] == date_filter]\n",
    "    covid_data.sort_values(\"state\", inplace=True)\n",
    "    covid_data.reset_index(inplace=True, drop=True)\n",
    "    \n",
    "    return covid_data\n",
    "\n",
    "def formatPreZero(num: int) -> str:\n",
    "\n",
    "    #adds '0' char to any integer less than 10 to match formatting\n",
    "    if num >= 10:\n",
    "        return str(num)\n",
    "    \n",
    "    return \"0\" + str(num)\n",
    "    \n",
    "#reformat date parameter to match data values in csv    \n",
    "def formatDate(month: int,  day: int, year: int) -> str:\n",
    "    return f\"{year}/{formatPreZero(month)}/{formatPreZero(day)}\""
   ]
  },
  {
   "cell_type": "markdown",
   "metadata": {},
   "source": [
    "## Dataset 2 (Labor)\n",
    "- The raw data file for Dataset 2 is an excel file. The format of the data was not organized in a way that complements dataframes, so we had a lot of unnecessary texts in the excel\n",
    "read as data entries as well. \n",
    "- Our first step was to identify the columns and rows that we want, which are the 50 states. We removed unnecessary states (including U.S. territories) and removed all the extra\n",
    "non-state entries that were read as rows.\n",
    "- Another problem is that some names in the State column had some footnote numbers that were unintentionally read from the excel sheet. We solved this by removing all occurences of numbers and parentheses from the State column.\n",
    "- Since other datasets use state codes and the original data uses state names, we had to transform state names in the States column to their corresponding state codes. We did this by defining a function ```to_state_code``` that uses a dictionary to map each state name to their state code.\n",
    "- We had to reorganize the structure of the dataframe, as the original file had the data stacked on top of each other so each state had 3 rows in the Dataframe. We did so by separating the \n",
    "raw dataframe into three different dataframes, and then combining them into a single dataframe so we only have 50 rows.\n",
    "- We then removed unnessary columns, such as data from other time periods (Our focus was December of 2020). We also combined the columns of job sectors into two groups relevant to our analysis: Blue collar (construction, mining, trade, leisure) and White collar (Financial, professional, education, government) jobs.\n",
    "- Our final step for Dataset 3 is to export the cleaned dataset as a csv and save it to the \"Cleaned Data\" folder."
   ]
  },
  {
   "cell_type": "markdown",
   "metadata": {},
   "source": [
    "## Dataset 2 (Labor) Code"
   ]
  },
  {
   "cell_type": "code",
   "execution_count": null,
   "metadata": {},
   "outputs": [],
   "source": [
    "#Copied from https://gist.github.com/rogerallen/1583593\n",
    "us_state_to_abbrev = {\n",
    "    \"Alabama\": \"AL\",\n",
    "    \"Alaska\": \"AK\",\n",
    "    \"Arizona\": \"AZ\",\n",
    "    \"Arkansas\": \"AR\",\n",
    "    \"California\": \"CA\",\n",
    "    \"Colorado\": \"CO\",\n",
    "    \"Connecticut\": \"CT\",\n",
    "    \"Delaware\": \"DE\",\n",
    "    \"Florida\": \"FL\",\n",
    "    \"Georgia\": \"GA\",\n",
    "    \"Hawaii\": \"HI\",\n",
    "    \"Idaho\": \"ID\",\n",
    "    \"Illinois\": \"IL\",\n",
    "    \"Indiana\": \"IN\",\n",
    "    \"Iowa\": \"IA\",\n",
    "    \"Kansas\": \"KS\",\n",
    "    \"Kentucky\": \"KY\",\n",
    "    \"Louisiana\": \"LA\",\n",
    "    \"Maine\": \"ME\",\n",
    "    \"Maryland\": \"MD\",\n",
    "    \"Massachusetts\": \"MA\",\n",
    "    \"Michigan\": \"MI\",\n",
    "    \"Minnesota\": \"MN\",\n",
    "    \"Mississippi\": \"MS\",\n",
    "    \"Missouri\": \"MO\",\n",
    "    \"Montana\": \"MT\",\n",
    "    \"Nebraska\": \"NE\",\n",
    "    \"Nevada\": \"NV\",\n",
    "    \"New Hampshire\": \"NH\",\n",
    "    \"New Jersey\": \"NJ\",\n",
    "    \"New Mexico\": \"NM\",\n",
    "    \"New York\": \"NY\",\n",
    "    \"North Carolina\": \"NC\",\n",
    "    \"North Dakota\": \"ND\",\n",
    "    \"Ohio\": \"OH\",\n",
    "    \"Oklahoma\": \"OK\",\n",
    "    \"Oregon\": \"OR\",\n",
    "    \"Pennsylvania\": \"PA\",\n",
    "    \"Rhode Island\": \"RI\",\n",
    "    \"South Carolina\": \"SC\",\n",
    "    \"South Dakota\": \"SD\",\n",
    "    \"Tennessee\": \"TN\",\n",
    "    \"Texas\": \"TX\",\n",
    "    \"Utah\": \"UT\",\n",
    "    \"Vermont\": \"VT\",\n",
    "    \"Virginia\": \"VA\",\n",
    "    \"Washington\": \"WA\",\n",
    "    \"West Virginia\": \"WV\",\n",
    "    \"Wisconsin\": \"WI\",\n",
    "    \"Wyoming\": \"WY\",\n",
    "    \"District of Columbia\": \"DC\",\n",
    "    \"American Samoa\": \"AS\",\n",
    "    \"Guam\": \"GU\",\n",
    "    \"Northern Mariana Islands\": \"MP\",\n",
    "    \"Puerto Rico\": \"PR\",\n",
    "    \"United States Minor Outlying Islands\": \"UM\",\n",
    "    \"U.S. Virgin Islands\": \"VI\",\n",
    "}\n",
    "\n",
    "def to_state_code(state_name):\n",
    "    return us_state_to_abbrev[state_name]"
   ]
  },
  {
   "cell_type": "code",
   "execution_count": null,
   "metadata": {},
   "outputs": [],
   "source": [
    "def clean_labor_data():\n",
    "    #Read excel file, renames first column to States and take out null rows\n",
    "    raw_labor_data = pd.read_excel(\"./Raw Data/labor_dataset_raw.xlsx\", header = 4, engine = \"openpyxl\")\n",
    "    raw_labor_data.rename(columns={\"Unnamed: 0\": \"State\"}, inplace=True)\n",
    "    raw_labor_data = raw_labor_data.dropna()\n",
    "\n",
    "    #Take out data from 2021 and only keep 2020\n",
    "    raw_labor_data = raw_labor_data[[\"State\", \"Dec.\\n2020\", \"Dec.\\n2020.1\", \"Dec.\\n2020.2\"]]\n",
    "    \n",
    "    non_states = [\"Virgin Islands\", \"District of Columbia\", \"Puerto Rico\"]\n",
    "\n",
    "    #Removes all non official states from dataset\n",
    "    for region in non_states:\n",
    "        raw_labor_data = raw_labor_data[raw_labor_data[\"State\"].str.contains(region)==False]\n",
    "\n",
    "    #Reset index to start at 0\n",
    "    raw_labor_data = raw_labor_data.reset_index(drop = True)\n",
    "\n",
    "    #eliminated extra characters in state names\n",
    "    raw_labor_data[\"State\"] = raw_labor_data[\"State\"].str.replace('\\d+', '', regex=True)\n",
    "    raw_labor_data[\"State\"] = raw_labor_data[\"State\"].str.replace('(', '', regex=True)\n",
    "    raw_labor_data[\"State\"] = raw_labor_data[\"State\"].str.replace(')', '', regex=True)\n",
    "\n",
    "    #Convert state names into codes (First two letters of each state name)\n",
    "    raw_labor_data[\"State\"] = raw_labor_data[\"State\"].apply(lambda state_name: us_state_to_abbrev[state_name])\n",
    "\n",
    "    #Original raw data has different columns stacked on top of each row, so we need to reorder the dataset.\n",
    "    #Block 1 contains total, constructing and mining data\n",
    "    block1 = raw_labor_data[:50]\n",
    "    block1.columns = [\"State\", \"Total\", \"Constructing\", \"Mining\"]\n",
    "\n",
    "    #Block 2 contains Trade, Financial and Professional\n",
    "    block2 = raw_labor_data[50:100]\n",
    "    block2.columns = [\"State\", \"Trade\", \"Financial\", \"Professional\"]\n",
    "\n",
    "    #Block 3 contains Education, Leisure and Government\n",
    "    block3 = raw_labor_data[100:]\n",
    "    block3.columns = [\"State\", \"Education\", \"Leisure\", \"Gov\"]\n",
    "\n",
    "    #merge all blocks into one dataframe\n",
    "    labor_data = block1.merge(block2, on=\"State\")\n",
    "    labor_data = labor_data.merge(block3, on=\"State\")\n",
    "\n",
    "    #We only need data on white collar and blue collar, so we can combine each job sector to their respective group.\n",
    "    labor_data[\"Blue_col\"] = labor_data[\"Constructing\"] + labor_data[\"Mining\"] + labor_data[\"Trade\"] + labor_data[\"Leisure\"]\n",
    "    labor_data[\"White_col\"] = labor_data[\"Financial\"] + labor_data[\"Professional\"] + labor_data[\"Education\"] + labor_data[\"Gov\"]\n",
    "\n",
    "    #Get rid of all other columns except State, White_col, Blue_col and Total\n",
    "    labor_data.drop(columns = [\"Constructing\", \"Mining\", \"Trade\", \"Financial\", \"Professional\", \"Education\", \"Leisure\", \"Gov\"], inplace=True)\n",
    "    #export as csv\n",
    "    labor_data.columns = ['state','tot_jobs','blue_col','white_col']\n",
    "    labor_data.to_csv('./Cleaned Data/state_labor_data.csv')\n",
    "\n",
    "def get_labor_data():\n",
    "    labor_data_url = './Cleaned Data/state_labor_data.csv'\n",
    "    labor_data = pd.read_csv(labor_data_url)\n",
    "    return labor_data\n",
    "\n",
    "clean_labor_data()"
   ]
  },
  {
   "cell_type": "markdown",
   "metadata": {},
   "source": [
    "\n",
    "## Dataset 3 (Income/Insurance)\n",
    "- For Dataset 3, we have two primary steps in cleaning the data. The first step was manually inputting the data from the data sources to a CSV file via Google Sheets. This manual step was necessary due to the fact that the original data source did not have an option to directly extract/download the raw data. Since there were only 50 observations, we decided manual input was the best option. \n",
    "\n",
    "- Our second step for Dataset 3 was to import the data into this notebook. We uploaded the CSV file into our \"Raw Data\" folder, and then used read_csv to bring it into a dataframe, which is a usable format for our future analysis. After making sure there were no issues, we then saved it to the \"Cleaned Data\" folder."
   ]
  },
  {
   "cell_type": "markdown",
   "metadata": {},
   "source": [
    "## Dataset 3 (Income/Insurance) Code"
   ]
  },
  {
   "cell_type": "code",
   "execution_count": null,
   "metadata": {},
   "outputs": [],
   "source": [
    "def standardize_income(string):\n",
    "    string = string.strip()\n",
    "\n",
    "    string = string.replace(',', '')\n",
    "    return float(string)\n",
    "\n",
    "# Cleaning socioeconomic data\n",
    "def clean_socioeconomic_data():\n",
    "    socioeconomic_data_url = r'./Raw Data/socioeconomic_data.csv'\n",
    "    soci_data = pd.read_csv(socioeconomic_data_url)\n",
    "\n",
    "    #simplify columns and replace Median Household income values with floats\n",
    "    soci_data.columns = ['state', '%_no_insurance', 'median_income']\n",
    "    soci_data['median_income'] = soci_data['median_income'].apply(standardize_income)\n",
    "\n",
    "    soci_data['with_insurance'] = 100 - soci_data['%_no_insurance'] \n",
    "\n",
    "    # Saving to CSV\n",
    "    clean_socioeconomic_data_url = r\"./Cleaned Data/clean_socioeconomic_data.csv\"\n",
    "    soci_data.to_csv(clean_socioeconomic_data_url, index=False)\n",
    "    \n",
    "def get_socioeconomic_data():\n",
    "    clean_socioeconomic_data_url = r\"./Cleaned Data/clean_socioeconomic_data.csv\"\n",
    "    soci_data = pd.read_csv(clean_socioeconomic_data_url)\n",
    "    return soci_data\n",
    "\n",
    "clean_socioeconomic_data()"
   ]
  },
  {
   "cell_type": "markdown",
   "metadata": {},
   "source": [
    "## Dataset 4 (US population)\n",
    "- The raw data is in csv format with population census data from the US government. For our purposes, we only want the state name and the population in 2020. Although it is 2022, there is not yet a fully released dataset on 2021 population data aside from estimates, so it is fine that we only have 2020 populations and we will be conducting our analysis for 2020.\n",
    "\n",
    "- Since there are also US territories included and DC, we remove those unwanted rows. We also want to store states as their state code rather than their full name. There are also problems with having the population stored as a string, so we do some formatting to make the population be stored as an integer. Finally, we apply some renaming and then our data cleaning is complete.\n",
    "\n",
    "https://data.ers.usda.gov/reports.aspx?ID=17827"
   ]
  },
  {
   "cell_type": "markdown",
   "metadata": {},
   "source": [
    "## Dataset 4 (US population) Code"
   ]
  },
  {
   "cell_type": "code",
   "execution_count": null,
   "metadata": {},
   "outputs": [],
   "source": [
    "def clean_population_data():\n",
    "    def format_population(pop: str) -> int:\n",
    "        pop = pop.replace(\",\", \"\")\n",
    "        return int(pop)\n",
    "    # get population data\n",
    "    population_data_url = r\"Raw Data/PopulationReport.csv\"\n",
    "    pop_data = pd.read_csv(population_data_url)\n",
    "    \n",
    "    # keep only state name and total population 2020\n",
    "    pop_data = pop_data[[\"Name\", \"Pop. 2020\"]]\n",
    "    \n",
    "    # Remove unwanted Rows\n",
    "    remove_rows = [\"United States\", \"District of Columbia\", \"Puerto Rico\", \"Source: U.S. Census Bureau, 1990, 2000, 2010, 2020 Censuses of Population\\n\\n\\n\"]\n",
    "    pop_data = pop_data[~pop_data[\"Name\"].isin(remove_rows)]\n",
    "    pop_data.dropna(inplace=True)\n",
    "    \n",
    "    # Change column name\n",
    "    pop_data.columns = [\"state\", \"total_population\"]\n",
    "    \n",
    "    # Value formatting\n",
    "    pop_data[\"total_population\"] = pop_data[\"total_population\"].apply(format_population)\n",
    "    pop_data[\"state\"] = pop_data[\"state\"].apply(to_state_code)\n",
    "    \n",
    "    # save to cleaned data\n",
    "    cleaned_population_data_url = \"Cleaned Data/population.csv\"\n",
    "    pop_data.to_csv(cleaned_population_data_url, index=False)\n",
    "    \n",
    "def read_population_data():\n",
    "    cleaned_population_data_url = \"Cleaned Data/population.csv\"\n",
    "    pop_data = pd.read_csv(cleaned_population_data_url)\n",
    "    return pop_data\n",
    "\n",
    "clean_population_data()"
   ]
  },
  {
   "cell_type": "markdown",
   "metadata": {},
   "source": [
    "# Data Analysis & Results (EDA)"
   ]
  },
  {
   "cell_type": "markdown",
   "metadata": {},
   "source": [
    "Our EDA involves both univariate and multivariate data-viz techniques. The following is a brief summary of our EDA, but the comments scattered throughout the code are helpful to understand our results. One important thing to note is that for the COVID data, we added up the number of cases and infections throughout the 2020 year to get the proper counts. On the other hand, our other 3 datasets are instantaneously recorded, showing a snapshot of one point in time that represents 2020.\n",
    "\n",
    "### Size\n",
    "At the end of our data cleaning, we ended up with 4 dataframes with 50 rows each. The rows were made unique by their state identifier. The state identifiers are two-letter abberviations of the state that each row represents. We used these 4 dataframes and merged them into one using the following functions."
   ]
  },
  {
   "cell_type": "markdown",
   "metadata": {},
   "source": [
    "#### Imports"
   ]
  },
  {
   "cell_type": "code",
   "execution_count": 1,
   "metadata": {},
   "outputs": [],
   "source": [
    "import pandas as pd\n",
    "import numpy as np\n",
    "import matplotlib.pyplot as plt\n",
    "import seaborn as sns"
   ]
  },
  {
   "cell_type": "markdown",
   "metadata": {},
   "source": [
    "#### Functions to Merge DataFrames"
   ]
  },
  {
   "cell_type": "code",
   "execution_count": 2,
   "metadata": {},
   "outputs": [],
   "source": [
    "def formatPreZero(num: int) -> str:\n",
    "\n",
    "    #adds '0' char to any integer less than 10 to match formatting\n",
    "    if num >= 10:\n",
    "        return str(num)\n",
    "    \n",
    "    return \"0\" + str(num)\n",
    "    \n",
    "#reformat date parameter to match data values in csv    \n",
    "def formatDate(month: int,  day: int, year: int) -> str:\n",
    "    return f\"{year}/{formatPreZero(month)}/{formatPreZero(day)}\"\n",
    "\n",
    "def read_covid_data(month: int, day: int, year: int):\n",
    "    #retrieve cleaned csv\n",
    "    covid_data_url = r\"Cleaned Data/state_covid_data.csv\"\n",
    "    covid_data = pd.read_csv(covid_data_url)\n",
    "    \n",
    "    #reformat date parameter to match data values in csv, then get all data from specific date\n",
    "    date_filter = formatDate(month, day, year)\n",
    "    covid_data = covid_data[covid_data[\"submission_date\"] == date_filter]\n",
    "    covid_data.sort_values(\"state\", inplace=True)\n",
    "    covid_data.reset_index(inplace=True, drop=True)\n",
    "    \n",
    "    return covid_data\n",
    "\n",
    "def get_labor_data():\n",
    "    labor_data_url = 'Cleaned Data/state_labor_data.csv'\n",
    "    labor_data = pd.read_csv(labor_data_url)\n",
    "    return labor_data\n",
    "\n",
    "def get_socioeconomic_data():\n",
    "    clean_socioeconomic_data_url = \"Cleaned Data/clean_socioeconomic_data.csv\"\n",
    "    soci_data = pd.read_csv(clean_socioeconomic_data_url)\n",
    "    return soci_data\n",
    "\n",
    "def get_population_data():\n",
    "    cleaned_population_data_url = r\"Cleaned Data/population.csv\"\n",
    "    pop_data = pd.read_csv(cleaned_population_data_url)\n",
    "    return pop_data\n",
    "\n",
    "def get_overall_data(month: int, day:int, year:int):\n",
    "    covid_data = read_covid_data(month, day, year)\n",
    "    soci_data = get_socioeconomic_data()\n",
    "    labor_data = get_labor_data()\n",
    "    pop_data = get_population_data()\n",
    "\n",
    "    overall_df = pd.merge(labor_data, soci_data, left_on='state', right_on='state')\n",
    "    overall_df = pd.merge(overall_df, covid_data, left_on='state', right_on='state')\n",
    "    overall_df = pd.merge(overall_df, pop_data, left_on=\"state\", right_on=\"state\")\n",
    "    overall_df.drop([\"Unnamed: 0\"], axis=\"columns\", inplace=True)\n",
    "    overall_df.columns = ['state', 'total_jobs', 'blue_collar', 'white_collar', '%_no_insurance', 'median_income', \n",
    "                          '%_with_insurance', 'submission_date', 'total_cases', 'total_deaths', \"total_population\"]\n",
    "\n",
    "\n",
    "    overall_df['%_mortality_rate'] = (overall_df['total_deaths'] / overall_df['total_cases']) * 100\n",
    "    overall_df['%_blue_collar'] = overall_df['blue_collar'] / overall_df['total_jobs'] * 100\n",
    "    overall_df['%_white_collar'] = overall_df['white_collar'] / overall_df['total_jobs'] * 100\n",
    "    overall_df[\"%_infection_rate\"] = (overall_df[\"total_cases\"] / (overall_df[\"total_population\"] - overall_df[\"total_deaths\"])) * 100\n",
    "\n",
    "\n",
    "    overall_df = overall_df[['state', 'total_jobs', 'blue_collar', '%_blue_collar', 'white_collar', '%_white_collar', \n",
    "                            'median_income', '%_no_insurance', '%_with_insurance', 'submission_date', 'total_population', \n",
    "                            'total_cases', 'total_deaths',  '%_mortality_rate', '%_infection_rate']]\n",
    "    return overall_df"
   ]
  },
  {
   "cell_type": "code",
   "execution_count": null,
   "metadata": {},
   "outputs": [],
   "source": [
    "#define socioeconomic coefficient (prosperity coefficient)\n",
    "def calculate_alpha(median_income, with_insurance, white_labor):\n",
    "    # alpha is the name of our coeff, it takes the three variables and standardizes them, then assigns them equal weight.\n",
    "    alpha = ((((median_income/100000)*0.3333)) + (with_insurance/100)*0.3333 + (white_labor/100)*0.3333)\n",
    "    return alpha"
   ]
  },
  {
   "cell_type": "markdown",
   "metadata": {},
   "source": [
    "#### Calling the functions (Consolidating/Combining Data)"
   ]
  },
  {
   "cell_type": "code",
   "execution_count": null,
   "metadata": {},
   "outputs": [],
   "source": [
    "# use get_overall_data\n",
    "overall_df = get_overall_data(2, 1, 2022)\n",
    "\n",
    "# create column for calculated coeffeicients\n",
    "overall_df['coeff'] = calculate_alpha(overall_df['median_income'],overall_df['%_with_insurance'], overall_df['%_white_collar'])\n",
    "\n",
    "overall_df"
   ]
  },
  {
   "cell_type": "markdown",
   "metadata": {},
   "source": [
    "### A Quick Note on Missingness\n",
    "None of our required data was missing due to the nature of our source databases. The US Census data requires averages and census information from each state, as well as the CDC. One way we prevented missingness or inconsistency in our data was by eliminating US territories, like Washington DC. However, after the data cleaning portion of our project, we do not have any missing data to deal with.\n",
    "\n",
    "### Shape\n",
    "We conduct a series of data vizualization steps to show what our current data looks like. By the way, now might be a good time to take a look at some of the general stats of our dataframe.\n"
   ]
  },
  {
   "cell_type": "code",
   "execution_count": null,
   "metadata": {},
   "outputs": [],
   "source": [
    "overall_df.describe().astype(int)"
   ]
  },
  {
   "cell_type": "markdown",
   "metadata": {},
   "source": [
    "Now that we have more of the general descriptive stats on here, let's look at some of the relationships we can easily visualize between our independent variables (socioeconomic factors) and our dependent variable (COVID data). We can accomplish this using scatterplots."
   ]
  },
  {
   "cell_type": "markdown",
   "metadata": {},
   "source": [
    "#### Scatterplot 1: Relationship between COVID and Median Income"
   ]
  },
  {
   "cell_type": "code",
   "execution_count": null,
   "metadata": {},
   "outputs": [],
   "source": [
    "# scatterplot 1 (median_income vs mortality_rate) and (median_income vs infection_rate)\n",
    "\n",
    "#initialize the figure and scatterplots\n",
    "fig = plt.figure(figsize = (30, 10))\n",
    "ax1 = fig.add_subplot(121)\n",
    "ax2 = fig.add_subplot(122)\n",
    "\n",
    "a1, b1 = np.polyfit(overall_df['median_income'], overall_df['%_mortality_rate'], 1)\n",
    "a2, b2 = np.polyfit(overall_df['median_income'], overall_df['%_infection_rate'], 1)\n",
    "\n",
    "\n",
    "#integrate data from overall_df/data from all states\n",
    "ax1.scatter(overall_df['median_income'], overall_df['%_mortality_rate'])\n",
    "ax2.scatter(overall_df['median_income'], overall_df['%_infection_rate'])\n",
    "\n",
    "#titles and axis labels\n",
    "ax1.set_title('Median Income vs. Mortality Rate', fontsize = 20)\n",
    "ax1.set_xlabel('Median Income', fontsize = 20)\n",
    "ax1.set_ylabel('Mortality Rate', fontsize = 20)\n",
    "\n",
    "ax2.set_title('Median Income vs. Infection Rate', fontsize = 20)\n",
    "ax2.set_xlabel('Median Income', fontsize = 20)\n",
    "ax2.set_ylabel('Infection Rate', fontsize = 20)\n",
    "\n",
    "ax1.plot(overall_df['median_income'], a1*overall_df['median_income'] + b1)\n",
    "ax2.plot(overall_df['median_income'], a2*overall_df['median_income'] + b2)\n",
    "plt.show()"
   ]
  },
  {
   "cell_type": "markdown",
   "metadata": {},
   "source": [
    "Each of the scatterplots above contain 50 data points each, with an individual data point representing one state. Thus, the scatterplot on the left contains 50 data points that represent a state's median income and COVID mortality rate while the scatterplot on the right contains 50 data points that represent a state's median income and COVID infection rate. Additionally, no data points are missing as we intentionally chose, cleaned, and analyzed datasets that had data for all 50 states. \n",
    "\n",
    "In the code to generate the scatterplots, we used matplotlib and its scatter function to generate the two scatterplots side-by-side. Additionally, we used numpy (np), specifically np.polyfit(), to create the line of best fit for the two scatterplots. Thus, the scatterplot on the left has a line of best fit to represent the relationship between a state's median income and COVID mortality rate. Similarly, the scatterplot on the right has a line of best fit to represent the relationship between a state's median income and COVID infection rate. \n",
    "\n",
    "Both of the scatterplots show the same negative, moderate trend. The scatterplot on the left shows that as a state's median income increases, its COVID mortality rate decreases. Similarly, the scatterplot on the right shows that as a state's median income increases, its COVID infection rate decreases. Going back to our research question, these two scatterplots do show that there is a negative correlation between a state's median income and COVID mortality and infection rates. However, we cannot prove causation without performing an experiment. \n",
    "\n",
    "One possible explanation for why there is a negative correlation in both scatterplots is that states with higher median incomes means that there are more people with higher incomes. Thus, this higher wealth means that people in these states can afford better healthcare while people in lower-income states might not have access to the same healthcare. Thus, states with a higher median income will tend to have a lower COVID mortality and infection rate since there are more people who can afford healthcare. "
   ]
  },
  {
   "cell_type": "markdown",
   "metadata": {},
   "source": [
    "#### Scatterplot 2: Relationship between COVID and Insurance"
   ]
  },
  {
   "cell_type": "code",
   "execution_count": null,
   "metadata": {},
   "outputs": [],
   "source": [
    "# scatterplot 2 (with_insurance vs morality_rate) and (with_insurance vs infection_rate) (wesley)\n",
    "\n",
    "#initialize the figure and scatterplots\n",
    "fig2 = plt.figure(figsize = (35, 15))\n",
    "ax1 = fig2.add_subplot(121)\n",
    "ax2 = fig2.add_subplot(122)\n",
    "\n",
    "a1, b1 = np.polyfit(overall_df['%_with_insurance'], overall_df['%_mortality_rate'], 1)\n",
    "a2, b2 = np.polyfit(overall_df['%_with_insurance'], overall_df['%_infection_rate'], 1)\n",
    "\n",
    "#integrate data from overall_df/data from all states\n",
    "ax1.scatter(overall_df['%_with_insurance'], overall_df['%_mortality_rate'])\n",
    "ax2.scatter(overall_df['%_with_insurance'], overall_df['%_infection_rate'])\n",
    "\n",
    "#titles and axis labels\n",
    "ax1.set_title('Percent of Population with Insurance vs. Mortality Rate', fontsize = 20)\n",
    "ax1.set_xlabel('Percent of Population with Insurance', fontsize = 20)\n",
    "ax1.set_ylabel('Mortality Rate', fontsize = 20)\n",
    "\n",
    "ax2.set_title('Percent of Population with Insurance vs. Infection Rate', fontsize = 20)\n",
    "ax2.set_xlabel('Percent of Population with Insurance', fontsize = 20)\n",
    "ax2.set_ylabel('Infection Rate', fontsize = 20)\n",
    "\n",
    "\n",
    "ax1.plot(overall_df['%_with_insurance'], a1*overall_df['%_with_insurance'] + b1)\n",
    "ax2.plot(overall_df['%_with_insurance'], a2*overall_df['%_with_insurance'] + b2)\n",
    "plt.show()"
   ]
  },
  {
   "cell_type": "markdown",
   "metadata": {},
   "source": [
    "These two scatterplots are very similar to the scatterplots in the previous section that showed a negative correlation between a state's median income and COVID mortality and infection rates. \n",
    "\n",
    "Each of the scatterplots above contain 50 data points each, with an individual data point representing one state. Thus, the scatterplot on the left contains 50 data points that represent a state's percentage of people who have health insurance and COVID mortality rate while the scatterplot on the right contains 50 data points that represent a state's percentage of people who have health insurance and COVID infection rate. Additionally, no data points are missing as we intentionally chose, cleaned, and analyzed datasets that had data for all 50 states. \n",
    "\n",
    "In the code to generate the scatterplots, we used matplotlib and its scatter function to generate the two scatterplots side-by-side. Additionally, we used numpy (np), specifically np.polyfit(), to create the line of best fit for the two scatterplots. Thus, the scatterplot on the left has a line of best fit to represent the relationship between a state's percentage of people who have health insurance and COVID mortality rate. Similarly, the scatterplot on the right has a line of best fit to represent the relationship between a state's percentage of people who have health insurance and COVID infection rate. \n",
    "\n",
    "Both of the scatterplots show the same negative, moderate trend. The scatterplot on the left shows that as a state's percentage of people who have health insurance increases, its COVID mortality rate decreases. Similarly, the scatterplot on the right shows that as a state's percentage of people who have health insurance increases, its COVID infection rate decreases. Going back to our research question, these two scatterplots do show that there is a negative correlation between a state's percentage of people who have health insurance and COVID mortality and infection rates. However, we cannot prove causation without performing an experiment. \n",
    "\n",
    "One possible explanation for why there is a negative correlation in both scatterplots is that states with a higher percentage of people with health insurance means that there are more people with access to healthcare. Thus, this higher access means that people in these states can afford better healthcare and get treated for COVID while people in lower-percentage states might not have access to the same healthcare. Thus, states with a higher percentage of people with health insurance will tend to have a lower COVID mortality and infection rate since there are more people who can access healthcare. "
   ]
  },
  {
   "cell_type": "markdown",
   "metadata": {},
   "source": [
    "#### Scatterplot 3: Relationship between COVID and Labor Distribution"
   ]
  },
  {
   "cell_type": "code",
   "execution_count": null,
   "metadata": {},
   "outputs": [],
   "source": [
    "# scatterplot 3 (%_white_collar vs morality_rate) and (%_white_collar vs infection_rate)\n",
    "\n",
    "#initialize the figure and scatterplots\n",
    "fig3 = plt.figure(figsize = (35, 15))\n",
    "ax1 = fig3.add_subplot(121)\n",
    "ax2 = fig3.add_subplot(122)\n",
    "\n",
    "a1, b1 = np.polyfit(overall_df['%_white_collar'], overall_df['%_mortality_rate'], 1)\n",
    "a2, b2 = np.polyfit(overall_df['%_white_collar'], overall_df['%_infection_rate'], 1)\n",
    "\n",
    "#integrate data from overall_df/data from all states\n",
    "ax1.scatter(overall_df['%_white_collar'], overall_df['%_mortality_rate'])\n",
    "ax2.scatter(overall_df['%_white_collar'], overall_df['%_infection_rate'])\n",
    "\n",
    "#titles and axis labels\n",
    "ax1.set_title('Percent of Labor Force in White-Collar Industries vs. Mortality Rate', fontsize = 20)\n",
    "ax1.set_xlabel('Percent White-Collar', fontsize = 20)\n",
    "ax1.set_ylabel('Mortality Rate', fontsize = 20)\n",
    "\n",
    "ax2.set_title('Percent of Labor Force in White-Collar Industries vs Infection Rate', fontsize = 20)\n",
    "ax2.set_xlabel('Percent White-Collar', fontsize = 20)\n",
    "ax2.set_ylabel('Infection Rate', fontsize = 20)\n",
    "\n",
    "ax1.plot(overall_df['%_white_collar'], a1*overall_df['%_white_collar'] + b1)\n",
    "ax2.plot(overall_df['%_white_collar'], a2*overall_df['%_white_collar'] + b2)\n",
    "\n",
    "plt.show()\n"
   ]
  },
  {
   "cell_type": "markdown",
   "metadata": {},
   "source": [
    "\n",
    "#### Scatterplot 4: Relationship Between Alpha Coeff and COVID\n",
    "\n"
   ]
  },
  {
   "cell_type": "code",
   "execution_count": null,
   "metadata": {},
   "outputs": [],
   "source": [
    "# clara\n",
    "\n",
    "#initialize the figure and scatterplots\n",
    "fig3 = plt.figure(figsize = (35, 15))\n",
    "ax1 = fig3.add_subplot(121)\n",
    "ax2 = fig3.add_subplot(122)\n",
    "\n",
    "a1, b1 = np.polyfit(overall_df['coeff'], overall_df['%_mortality_rate'],1)\n",
    "a2, b2 = np.polyfit(overall_df['coeff'], overall_df['%_infection_rate'], 1)\n",
    "\n",
    "#integrate data from overall_df/data from all states\n",
    "ax1.scatter(overall_df['coeff'], overall_df['%_mortality_rate'])\n",
    "ax2.scatter(overall_df['coeff'], overall_df['%_infection_rate'])\n",
    "\n",
    "#titles and axis labels\n",
    "ax1.set_title('Socioeconomic Coefficient vs. Mortality Rate', fontsize = 20)\n",
    "ax1.set_xlabel('Socioeconomic Coefficient', fontsize = 20)\n",
    "ax1.set_ylabel('Mortality Rate', fontsize = 20)\n",
    "\n",
    "ax2.set_title('Socioeconomic Coefficient vs Infection Rate', fontsize = 20)\n",
    "ax2.set_xlabel('Socioeconomic Coefficient', fontsize = 20)\n",
    "ax2.set_ylabel('Infection Rate', fontsize = 20)\n",
    "\n",
    "ax1.plot(overall_df['coeff'], a1*overall_df['coeff']+b1)\n",
    "ax2.plot(overall_df['coeff'], a2*overall_df['coeff']+b2)\n",
    "\n",
    "\n",
    "\n",
    "plt.show()"
   ]
  },
  {
   "cell_type": "markdown",
   "metadata": {},
   "source": [
    "### Hm... well now that we've seen the general trends in our data, let's dive into deeper analyses! Here we will begin to understand the variability in our data."
   ]
  },
  {
   "cell_type": "markdown",
   "metadata": {},
   "source": [
    "#### Linear regression for mortality rate and all socioeconomic variables"
   ]
  },
  {
   "cell_type": "code",
   "execution_count": null,
   "metadata": {},
   "outputs": [],
   "source": [
    "from sklearn import linear_model\n",
    "# 1 day worth of data\n",
    "mortality_regression_data = get_overall_data(3, 12, 2021)\n",
    "mortality_regression_data = mortality_regression_data[[\"%_white_collar\", \"median_income\", \"%_with_insurance\", \"%_mortality_rate\"]]\n",
    "\n",
    "sns.pairplot(mortality_regression_data, kind=\"scatter\")\n",
    "plt.show()\n",
    "\n",
    "mortality_X = mortality_regression_data[[\"%_white_collar\", \"median_income\", \"%_with_insurance\"]]\n",
    "mortality_Y = mortality_regression_data[\"%_mortality_rate\"]\n",
    "\n",
    "mortality_model = linear_model.LinearRegression()\n",
    "mortality_model.fit(mortality_X, mortality_Y)\n",
    "\n",
    "print(mortality_model.coef_)\n",
    "\n",
    "# 23 days worth of data\n",
    "data_points = [\n",
    "    (4, 10, 2020),\n",
    "    (5, 10, 2020),\n",
    "    (6, 10, 2020),\n",
    "    (7, 10, 2020),\n",
    "    (8, 10, 2020),\n",
    "    (9, 10, 2020),\n",
    "    (10, 10, 2020),\n",
    "    (11, 10, 2020),\n",
    "    (12, 10, 2020),\n",
    "    (1, 10, 2021),\n",
    "    (2, 10, 2021),\n",
    "    (3, 10, 2021),\n",
    "    (4, 10, 2021),\n",
    "    (5, 10, 2021),\n",
    "    (6, 10, 2021),\n",
    "    (7, 10, 2021),\n",
    "    (8, 10, 2021),\n",
    "    (9, 10, 2021),\n",
    "    (10, 10, 2021),\n",
    "    (11, 10, 2021),\n",
    "    (12, 10, 2021),\n",
    "    (1, 10, 2022),\n",
    "    (2, 10, 2022)\n",
    "]\n",
    "\n",
    "mortality_regression_data = pd.DataFrame(columns=[\"%_white_collar\", \"median_income\", \"%_with_insurance\", \"%_mortality_rate\"])\n",
    "\n",
    "for point in data_points:\n",
    "    df = get_overall_data(*point)\n",
    "\n",
    "    df = df[[\"%_white_collar\", \"median_income\", \"%_with_insurance\", \"%_mortality_rate\"]]\n",
    "    mortality_regression_data = pd.concat([mortality_regression_data, df], ignore_index=True)\n",
    "    \n",
    "sns.pairplot(mortality_regression_data, kind=\"scatter\")\n",
    "plt.show()\n",
    "\n",
    "mortality_X = mortality_regression_data[[\"%_white_collar\", \"median_income\", \"%_with_insurance\"]]\n",
    "mortality_Y = mortality_regression_data[\"%_mortality_rate\"]\n",
    "\n",
    "mortality_model = linear_model.LinearRegression()\n",
    "mortality_model.fit(mortality_X, mortality_Y)\n",
    "\n",
    "print(mortality_model.coef_)"
   ]
  },
  {
   "cell_type": "markdown",
   "metadata": {},
   "source": [
    "#### Least Square for Mortaility Rate and Socioeconomic Variables"
   ]
  },
  {
   "cell_type": "code",
   "execution_count": 15,
   "metadata": {},
   "outputs": [
    {
     "name": "stdout",
     "output_type": "stream",
     "text": [
      "                            OLS Regression Results                            \n",
      "==============================================================================\n",
      "Dep. Variable:       %_mortality_rate   R-squared:                       0.042\n",
      "Model:                            OLS   Adj. R-squared:                  0.022\n",
      "Method:                 Least Squares   F-statistic:                     2.086\n",
      "Date:                Fri, 25 Feb 2022   Prob (F-statistic):              0.155\n",
      "Time:                        01:24:52   Log-Likelihood:                -32.172\n",
      "No. Observations:                  50   AIC:                             68.34\n",
      "Df Residuals:                      48   BIC:                             72.17\n",
      "Df Model:                           1                                         \n",
      "Covariance Type:            nonrobust                                         \n",
      "==============================================================================\n",
      "                 coef    std err          t      P>|t|      [0.025      0.975]\n",
      "------------------------------------------------------------------------------\n",
      "x1             0.0272      0.019      1.444      0.155      -0.011       0.065\n",
      "const         -0.7311      1.692     -0.432      0.668      -4.133       2.670\n",
      "==============================================================================\n",
      "Omnibus:                        0.997   Durbin-Watson:                   2.128\n",
      "Prob(Omnibus):                  0.607   Jarque-Bera (JB):                0.357\n",
      "Skew:                           0.114   Prob(JB):                        0.837\n",
      "Kurtosis:                       3.346   Cond. No.                     2.29e+03\n",
      "==============================================================================\n",
      "\n",
      "Notes:\n",
      "[1] Standard Errors assume that the covariance matrix of the errors is correctly specified.\n",
      "[2] The condition number is large, 2.29e+03. This might indicate that there are\n",
      "strong multicollinearity or other numerical problems.\n"
     ]
    },
    {
     "data": {
      "text/plain": [
       "Text(0.5, 1.0, 'Q-Q plot')"
      ]
     },
     "execution_count": 15,
     "metadata": {},
     "output_type": "execute_result"
    },
    {
     "data": {
      "image/png": "[encoded data removed]",
      "text/plain": [
       "<Figure size 432x288 with 1 Axes>"
      ]
     },
     "metadata": {
      "needs_background": "light"
     },
     "output_type": "display_data"
    }
   ],
   "source": [
    "import statsmodels.api as sm\n",
    "\n",
    "mortality_OLS_data = get_overall_data(3, 12, 2021)\n",
    "\n",
    "mortality_X = mortality_OLS_data[[\"%_white_collar\", \"median_income\", \"%_with_insurance\"]]\n",
    "mortality_OLS_Y = mortality_OLS_data[\"%_mortality_rate\"]\n",
    "\n",
    "ones = np.ones(mortality_X.shape[0])\n",
    "mortality_OLS_X = sm.add_constant(np.column_stack((mortality_OLS_data[\"%_white_collar\"], ones)))\n",
    "mortality_OLS_X = sm.add_constant(np.column_stack((mortality_OLS_data[\"median_income\"], ones)))\n",
    "mortality_OLS_X = sm.add_constant(np.column_stack((mortality_OLS_data[\"%_with_insurance\"], ones)))\n",
    "\n",
    "results = sm.OLS(mortality_OLS_Y, mortality_OLS_X).fit()\n",
    "print(results.summary())\n",
    "fig2 = sm.qqplot(results.resid, line='r')\n",
    "plt.title(\"Q-Q plot\")"
   ]
  },
  {
   "cell_type": "markdown",
   "metadata": {},
   "source": [
    "#### Linear regression for infection rate and socioeconomic variables"
   ]
  },
  {
   "cell_type": "code",
   "execution_count": null,
   "metadata": {},
   "outputs": [],
   "source": [
    "from sklearn import linear_model\n",
    "# 1 day worth of data\n",
    "infection_regression_data = get_overall_data(3, 12, 2021)\n",
    "infection_regression_data = infection_regression_data[[\"%_white_collar\", \"median_income\", \"%_with_insurance\", \"%_infection_rate\"]]\n",
    "\n",
    "sns.pairplot(infection_regression_data, kind=\"scatter\")\n",
    "plt.show()\n",
    "\n",
    "\n",
    "infection_X = infection_regression_data[[ \"%_white_collar\", \"median_income\", \"%_with_insurance\"]]\n",
    "infection_Y = infection_regression_data[\"%_infection_rate\"]\n",
    "\n",
    "infection_model = linear_model.LinearRegression()\n",
    "infection_model.fit(infection_X, infection_Y)\n",
    "\n",
    "print(infection_model.coef_)\n",
    "\n",
    "infection_regression_data = pd.DataFrame(columns=[\"%_white_collar\", \"median_income\", \"%_with_insurance\", \"%_infection_rate\"])\n",
    "\n",
    "for point in data_points:\n",
    "    df = get_overall_data(*point)\n",
    "    df = df[[ \"%_white_collar\", \"median_income\", \"%_with_insurance\", \"%_infection_rate\"]]\n",
    "    infection_regression_data = pd.concat([infection_regression_data, df], ignore_index=True)\n",
    "    \n",
    "sns.pairplot(infection_regression_data, kind=\"scatter\")\n",
    "plt.show()\n",
    "\n",
    "infection_X = infection_regression_data[[\"%_white_collar\", \"median_income\", \"%_with_insurance\"]]\n",
    "infection_Y = infection_regression_data[\"%_infection_rate\"]\n",
    "\n",
    "infection_model = linear_model.LinearRegression()\n",
    "infection_model.fit(infection_X, infection_Y)\n",
    "\n",
    "print(infection_model.coef_)"
   ]
  },
  {
   "cell_type": "code",
   "execution_count": null,
   "metadata": {},
   "outputs": [],
   "source": [
    "import patsy\n",
    "import statsmodels.api as sm\n",
    "\n",
    "infection_regression_data = get_overall_data(3, 12, 2021)\n",
    "infection_regression_data = infection_regression_data[[\"%_white_collar\", \"median_income\", \"%_with_insurance\", \"%_infection_rate\"]]\n",
    "\n",
    "#alternate linear regression approach\n",
    "#formula = \"\"\"Q('%_infection_rate') ~ Q('%_white_collar')\"\"\"\n",
    "\n",
    "#Multivariate analsysi of infection rate with white collar, median income, and with_insurance data.\n",
    "formula = \"\"\"Q('%_infection_rate') ~ Q('%_white_collar') + Q('median_income') + Q('%_with_insurance')\"\"\"\n",
    "data = infection_regression_data\n",
    "dep, predictors = patsy.dmatrices(formula, data)\n",
    "model = sm.OLS(dep, predictors)\n",
    "res_1 = model.fit()\n",
    "print(res_1.summary())\n"
   ]
  },
  {
   "cell_type": "markdown",
   "metadata": {},
   "source": [
    "# The Best Part\n",
    "One of our biggest goals coming into this project was to be able to create a predictive script that took socioeconomic factors and created a predicted morality and infection rate."
   ]
  },
  {
   "cell_type": "code",
   "execution_count": null,
   "metadata": {},
   "outputs": [],
   "source": [
    "def prediction(median_income, with_insurance, white_collar, desired_output):\n",
    "    coeff = calculate_alpha(median_income, with_insurance, white_collar)\n",
    "    predicted_mortality = a1*coeff+b1\n",
    "    predicted_infection = a2*coeff+b2\n",
    "    if desired_output == 'mortality_rate':\n",
    "        output = predicted_mortality\n",
    "        output = f'{desired_output} = {output} %'\n",
    "    if desired_output == 'infection_rate':\n",
    "        output = predicted_infection\n",
    "        output = f'{desired_output} = {output} %'\n",
    "    if desired_output == 'both':\n",
    "        output = [predicted_mortality,predicted_infection]\n",
    "        output = f'mortality_rate = {output[0]}% \\ninfection_rate = {output[1]}%'\n",
    "    return(output)\n",
    "\n",
    "# Hello user! Feel free to input any values into the prediction function to see what your \"hypothetic state\" would output for mortality rate and infection rate.\n",
    "# The first parameter is the median income, second is the % of people w insurance, and the third is the % of workers who fall under white collar work\n",
    "# The last parameter is whether you want to predict infection or mortality rate. Have fun! Max median income is 100,000.\n",
    "\n",
    "# user_input = prediction(0, 0, 0, 'mortality_rate')\n",
    "# print(user_input)\n",
    "\n",
    "#AN EXAMPLE!\n",
    "clarafornia = prediction(100000, 90, 50, 'both')\n",
    "# print(clarafornia)\n",
    "\n",
    "ernestopia = prediction(2, 2, 2, 'both')\n",
    "print(ernestopia)\n",
    "\n",
    "ethantinople = prediction(50000, 20, 40, 'both')\n",
    "\n",
    "wesafrica = prediction(70000, 60, 20, 'both')\n",
    "\n",
    "stephenopolis = prediction(100000,100,100,'both')\n",
    "# print(stephenopolis)"
   ]
  },
  {
   "cell_type": "code",
   "execution_count": null,
   "metadata": {},
   "outputs": [],
   "source": []
  }
 ],
 "metadata": {
  "@webio": {
   "lastCommId": null,
   "lastKernelId": null
  },
  "interpreter": {
   "hash": "aee8b7b246df8f9039afb4144a1f6fd8d2ca17a180786b69acc140d282b71a49"
  },
  "kernelspec": {
   "display_name": "Python 3 (ipykernel)",
   "language": "python",
   "name": "python3"
  },
  "language_info": {
   "codemirror_mode": {
    "name": "ipython",
    "version": 3
   },
   "file_extension": ".py",
   "mimetype": "text/x-python",
   "name": "python",
   "nbconvert_exporter": "python",
   "pygments_lexer": "ipython3",
   "version": "3.9.5"
  }
 },
 "nbformat": 4,
 "nbformat_minor": 2
}
