{
 "cells": [
  {
   "cell_type": "markdown",
   "metadata": {},
   "source": [
    "# COGS 108 - Final Project Proposal"
   ]
  },
  {
   "cell_type": "markdown",
   "metadata": {},
   "source": [
    "# Names\n",
    "\n",
    "- Stephen Kim\n",
    "- Clara Yi\n",
    "- Ethan Lee\n",
    "- Ernest Lin\n",
    "- Wesley Nguyen"
   ]
  },
  {
   "cell_type": "markdown",
   "metadata": {},
   "source": [
    "# Research Question"
   ]
  },
  {
   "cell_type": "markdown",
   "metadata": {},
   "source": [
    "Do the macroscopic socioeconomic features of a state, specifically median income and the percentage of population without health insurance, have a correlation to COVID mortality rate?"
   ]
  },
  {
   "cell_type": "markdown",
   "metadata": {},
   "source": [
    "## Background and Prior Work"
   ]
  },
  {
   "cell_type": "markdown",
   "metadata": {},
   "source": [
    "### Introduction\n",
    "When a society faces unusual challenges, it often leads to major cultural shifts and realizations. COVID-19, which has impacted the global society in unpredictable and significant ways, stands as an opportunity for data scientists to gain insight into the nuances of healthcare, labor, and economics. By analyzing information from the CDC's database on COVID-19 related deaths, information from the United States Census Bureau, as well as data from the US Bureau of Labor Statistics, our team hopes to shed light on whether or not a state's overall socioeconomic breakdown influenced their COVID-19 mortality rate in 2020. Our macroscopic approach to this data science problem is motivated by the availability of consistent and state-specific data. We additionally propose a predictive model in the form of a function which uses the analyzed trends to make a prediction based on two hypothetical values: a specifed median income and % of population without healthcare. \n",
    "\n",
    "### Prior Work\n",
    "An health policy article by Adhikari, S. et. Al [1] discussed the early impact of COVID-19 based on a city's income level and race/ethnicity data. Their paper focused on ten major cities and discovered a positive correlation between lower income, more diverse areas and an increase in COVID-19 death and infection rates. According to an American Medical Association review of Adhikari's publication, there is \"no biological or genetic basis for why these inequities would exist\". While this article suggests an important relationship between income, race, and COVID-19 impact, our research team wishes to better understand this relationship on a state-level scale. This macroscopic approach has also been deemed meaningful by larger organizations such as the NIH, as expressed in a 2020 publication from the Journal of General Internal Medicine [2]. The researchers in this study used the Gini index as their measurement of income inequality. They acknowledge that income levels may be representative of a state's healthcare resources and number of essential occupations, but we believe that by directly analyzing health insurance and labor statistics in our research will paint a clearer picture of what previous scientists have already suggested.\n",
    "\n",
    "References (include links):\n",
    "- 1) https://jamanetwork.com/journals/jamanetworkopen/fullarticle/2768723?resultClick=1\n",
    "- 2) https://www.ncbi.nlm.nih.gov/pmc/articles/PMC7313247/"
   ]
  },
  {
   "cell_type": "markdown",
   "metadata": {},
   "source": [
    "# Hypothesis\n"
   ]
  },
  {
   "cell_type": "markdown",
   "metadata": {},
   "source": [
    "*State and defend your hypotheses here.*"
   ]
  },
  {
   "cell_type": "markdown",
   "metadata": {},
   "source": [
    "# Data"
   ]
  },
  {
   "cell_type": "markdown",
   "metadata": {},
   "source": [
    "*Explain what the ideal dataset you would want to answer this question. (This should include: What variables? How many observations? Who/what/how would these data be collected? How would these data be stored/organized?)*\n",
    "\n",
    "### Dataset 1 (COVID)\n",
    "<ins>Variables</ins>\n",
    "- US State\n",
    "- Total COVID Infection Cases\n",
    "- Total COVID Death Cases\n",
    "- Date\n",
    "**Note**: We will not be using the remainder of the variables in the dataset we have for this as they others relate to new cases/probably new cases/etc that are already accounted for in the total cases.\n",
    "\n",
    "The ideal dataset for COVID rates would contain the variables mentioned above. For a dataset like this, it would be best to get the official dataset from the CDC website. [Here](https://data.cdc.gov/Case-Surveillance/United-States-COVID-19-Cases-and-Deaths-by-State-o/9mfq-cb36/data). This data is collected by each government and is submitted at least once a week. For our purposes, we aren't looking at changes over time, but instead at certain moments in time, so we would only need a low multiple of 50 (50, 100, 150, ...) points of this dataset. There are many options to store this data, but we will be using CSV files and using Pandas dataframes for our cleaning/analysis.\n",
    "### Dataset 2\n",
    "### Dataset 3"
   ]
  },
  {
   "cell_type": "markdown",
   "metadata": {},
   "source": [
    "# Ethics & Privacy"
   ]
  },
  {
   "cell_type": "markdown",
   "metadata": {},
   "source": [
    "*Fill in your ethics & privacy discussion here*"
   ]
  },
  {
   "cell_type": "markdown",
   "metadata": {},
   "source": [
    "# Team Expectations "
   ]
  },
  {
   "cell_type": "markdown",
   "metadata": {},
   "source": [
    "* Will communicate about anything related to the project when stuck, need help, need clarification, ... beyond weekly meetings\n",
    "* Will perform the work they take on at the end of our weekly meetings\n",
    "* ..."
   ]
  },
  {
   "cell_type": "markdown",
   "metadata": {},
   "source": [
    "# Project Timeline Proposal"
   ]
  },
  {
   "cell_type": "markdown",
   "metadata": {},
   "source": [
    "| Meeting Date  | Meeting Time | Completed Before Meeting  | Meeting Topics | \n",
    "|---|---|---|---|\n",
    "| 1/26  |  4 PM | Brainstorm topics/questions; Find datasets; Think about proposal  | Work on proposal; finalize research question; Finalize draft of proposal and submit | \n",
    "\n",
    "\n",
    "| 2/1  | 10 AM  | Edit, finalize, and submit proposal; Search for datasets  | Discuss Wrangling and possible analytical approaches; Assign group members to lead each specific part   |\n",
    "| 2/14  | 6 PM  | Import & Wrangle Data (Ant Man); EDA (Hulk) | Review/Edit wrangling/EDA; Discuss Analysis Plan   |\n",
    "| 2/23  | 12 PM  | Finalize wrangling/EDA; Begin Analysis (Iron Man; Thor) | Discuss/edit Analysis; Complete project check-in |\n",
    "| 3/13  | 12 PM  | Complete analysis; Draft results/conclusion/discussion (Wasp)| Discuss/edit full project |\n",
    "| 3/19  | Before 11:59 PM  | NA | Turn in Final Project & Group Project Surveys |"
   ]
  },
  {
   "cell_type": "code",
   "execution_count": null,
   "metadata": {},
   "outputs": [],
   "source": []
  }
 ],
 "metadata": {
  "kernelspec": {
   "display_name": "Python 3 (ipykernel)",
   "language": "python",
   "name": "python3"
  },
  "language_info": {
   "codemirror_mode": {
    "name": "ipython",
    "version": 3
   },
   "file_extension": ".py",
   "mimetype": "text/x-python",
   "name": "python",
   "nbconvert_exporter": "python",
   "pygments_lexer": "ipython3",
   "version": "3.9.5"
  }
 },
 "nbformat": 4,
 "nbformat_minor": 2
}
