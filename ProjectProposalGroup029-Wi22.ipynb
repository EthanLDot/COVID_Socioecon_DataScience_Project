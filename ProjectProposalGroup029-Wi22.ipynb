{
 "cells": [
  {
   "cell_type": "markdown",
   "source": [
    "# COGS 108 - Final Project Proposal - Group 029"
   ],
   "metadata": {}
  },
  {
   "cell_type": "markdown",
   "source": [
    "# Names\n",
    "\n",
    "- Stephen Kim\n",
    "- Clara Yi\n",
    "- Ethan Lee\n",
    "- Ernest Lin\n",
    "- Wesley Nguyen"
   ],
   "metadata": {}
  },
  {
   "cell_type": "markdown",
   "source": [
    "# Research Question"
   ],
   "metadata": {}
  },
  {
   "cell_type": "markdown",
   "source": [
    "Do the macroscopic socioeconomic features of a state, specifically median income, percentage of population without health insurance, and labor breakdown, have a correlation to COVID mortality rate in 2020-2021?"
   ],
   "metadata": {}
  },
  {
   "cell_type": "markdown",
   "source": [
    "## Background and Prior Work"
   ],
   "metadata": {}
  },
  {
   "cell_type": "markdown",
   "source": [
    "### Introduction\n",
    "When a society faces unusual challenges, it often leads to major cultural shifts and realizations. COVID-19, which has impacted the global society in unpredictable and significant ways, stands as an opportunity for data scientists to gain insight into the nuances of healthcare, labor, and economics. By analyzing information from the CDC's database on COVID-19 related deaths, information from the United States Census Bureau, as well as data from the US Bureau of Labor Statistics, our team hopes to shed light on whether or not a state's overall socioeconomic breakdown influenced their COVID-19 mortality rate in 2020. Our macroscopic approach to this data science problem is motivated by the availability of consistent and state-specific data. We additionally propose a predictive model in the form of a function which uses the analyzed trends to make a prediction of covid mortality rate based on three hypothetical values: a specifed median income, % of population without healthcare, and % of labor force in blue collar jobs. \n",
    "\n",
    "### Prior Work\n",
    "An health policy article by Adhikari, S. et. al [1] discussed the early impact of COVID-19 based on a city's income level and race/ethnicity data. Their paper focused on ten major cities and discovered a positive correlation between lower income, more diverse areas and an increase in COVID-19 death and infection rates. According to an American Medical Association review of Adhikari's publication, there is \"no biological or genetic basis for why these inequities would exist\". While this article suggests an important relationship between income, race, and COVID-19 impact, our research team wishes to better understand this relationship on a state-level scale. This macroscopic approach has also been deemed meaningful by larger organizations such as the NIH, as expressed in a 2020 publication from the Journal of General Internal Medicine [2]. The researchers in this study used the Gini index as their measurement of income inequality. They acknowledge that income levels may be representative of a state's healthcare resources and number of essential occupations, but we believe that by directly analyzing health insurance and labor statistics in our research will paint a clearer picture of what previous scientists have already suggested.\n",
    "\n",
    "References (include links):\n",
    "- 1) https://jamanetwork.com/journals/jamanetworkopen/fullarticle/2768723?resultClick=1\n",
    "- 2) https://www.ncbi.nlm.nih.gov/pmc/articles/PMC7313247/"
   ],
   "metadata": {}
  },
  {
   "cell_type": "markdown",
   "source": [
    "# Hypothesis\n"
   ],
   "metadata": {}
  },
  {
   "cell_type": "markdown",
   "source": [
    "Based on our prior research, we hypothesize that there will be a negative correlation between median income and COVID morality rate, positive correlation between the percent of the population without health insurance and COVID morality rate, and a positive correlation between the rate of\"blue collar\" workers among the labor force and COVID mortality rate. By combining our three socioeconomic factors into a summarizing coefficient, we hope to create a predicitive model that reflects this hypothesis."
   ],
   "metadata": {}
  },
  {
   "cell_type": "markdown",
   "source": [
    "# Data"
   ],
   "metadata": {}
  },
  {
   "cell_type": "markdown",
   "source": [
    "### Dataset 1 (COVID)\n",
    "<ins>Variables</ins>\n",
    "- US State\n",
    "- Total COVID Infection Cases\n",
    "- Total COVID Death Cases\n",
    "- Date\n",
    "\n",
    "**Note**: We will not be using the remainder of the variables in the dataset we have for this as they others relate to new cases/probably new cases/etc that are already accounted for in the total cases.\n",
    "\n",
    "The ideal dataset for COVID rates would contain the variables mentioned above. For a dataset like this, it would be best to get the official dataset from the CDC website. [Here](https://data.cdc.gov/Case-Surveillance/United-States-COVID-19-Cases-and-Deaths-by-State-o/9mfq-cb36/data). This data is collected by each state government and is submitted at least once a week. For our purposes, we aren't looking at changes over time, but instead at certain moments in time, so we would only need a low multiple of 50 (50, 100, 150, ...) points of this dataset. There are many options to store this data, but we will be using CSV files and converting them to Pandas dataframes for our cleaning/analysis.\n",
    "### Dataset 2 (Division of Labor)\n",
    "<ins>Variables</ins>\n",
    "- Employees, seasonally adjusted\n",
    "- Month + Year\n",
    "- State\n",
    "- Industry (including all industries combined, and/or Blue Collars/White Collar Industries)\n",
    "\n",
    "We are also interested in determining the rates of participation in labor-intensive/blue-collar industries, which a dataset with these variables allow. One [sample (also available in XLSX format)](https://www.bls.gov/news.release/laus.t03.htm) does this well, as it collects data through a broad survey sample, it has trained interviewers performing the data collection, it utilizes results collected from the sample itself, and the data is heavily processed by economists and statisticians (*How BLS Collects Data*). We would want to ensure that the sample chosen includes people from each state and that participants by state adequately represent their state's labor force. We should have good data showing the total number of people in the labor force for each state as well as how many are in each industry. We plan to import the data and then clean the dataset so that we have 50n observations, where n is some integer >= 1 (the reason for this is because the dataset may have information for 50 states over n different time periods and we need to decide which time periods are most useful for analysis). We would also have to select and categorize certain industries on a blue-collar/white-collar spectrum, as we intend to only keep industries whose jobs are typically blue-collar in nature.\n",
    "### Dataset 3\n",
    "<ins>Variables</ins>\n",
    "- Persons without Health Insurance by State, %\n",
    "- Median Household Income by State in 2020\n",
    "\n",
    "The ideal dataset would included the variables mentioned above. To find the data for percentage of people without health insurance in each state, we went to the [United States Census Bureau Website](https://www.census.gov/quickfacts/fact/map/CA/HEA775220). Because the data provided was in the form of a map, and not a CSV file or spreadsheet, we had to manually gather each data point and put them in this [Google Sheet](https://docs.google.com/spreadsheets/d/174jFoW8KsXGJmpNUx8cbh6j4l6rhQhpOUKIPnkzk3lM/edit?usp=sharing). \n",
    "Additionally, to find data for the median household income by state in 2020, we went to [this website](https://fred.stlouisfed.org/release/tables?rid=249&eid=259515&od=2020-01-01#). Because this data was not in a CSV or Excel format, we also had to manually input that data into the same GoogleSheet above. \n",
    "Because we are conducting our research project at the state level, we expect to have 50 obersavations for each of our variables so that each state has 1 corresponding data observation. Thus, our Google Sheet will have 100 observations in total, since there are 2 variables we are looking at. \n",
    "Our data was collected in 2020 so it is slightly outdated but we will still be using this data for our analysis. Right now, our data is stored in a Google Sheet but we will be converting it to a CSV file and then importing the data into a pandas DataFrame for cleaning, wrangling, and analysis. "
   ],
   "metadata": {}
  },
  {
   "cell_type": "markdown",
   "source": [
    "# Ethics & Privacy"
   ],
   "metadata": {}
  },
  {
   "cell_type": "markdown",
   "source": [
    "There are no concerns regarding personal privacy as the personal information of individuals from datasets will not be used. Most of the data that we will be using are from public government datasets, so we can assume that the data collected are consensual and confidential. However, one of the concerns we discussed was the possibility that certain populations were not as well represented as others in these datasets, such as the possibility that blue collar workers may have the tendency to hide their covid cases to keep working. We also have considered the possibility of underreported covid cases and deaths due to political reasons to make political leaders seem more successful in the pandemic. We will be considering these potential biases during our analysis and our conclusion."
   ],
   "metadata": {}
  },
  {
   "cell_type": "markdown",
   "source": [
    "# Team Expectations "
   ],
   "metadata": {}
  },
  {
   "cell_type": "markdown",
   "source": [
    "* Will communicate about anything related to the project when stuck, need help, need clarification, ... beyond weekly meetings\n",
    "* Will perform the work they take on at the end of our weekly meetings\n",
    "* Will consult group before deleting other people's code\n",
    "* Keep unorganized, raw data in local machine and only keep clean data on repository"
   ],
   "metadata": {}
  },
  {
   "cell_type": "markdown",
   "source": [
    "# Project Timeline Proposal"
   ],
   "metadata": {}
  },
  {
   "cell_type": "markdown",
   "source": [
    "| Meeting Date  | Meeting Time | Completed Before Meeting  | Meeting Topics | \n",
    "|---|---|---|---|\n",
    "| 1/26  |  4 PM | Brainstorm topics/questions; Find datasets (all); Think about proposal  | Work on proposal; finalize research question; Finalize draft of proposal and submit | \n",
    "| 2/2  | 4 PM  | Have clean and filtered data to present; have data imported into pandas   | Discuss Wrangling and possible analytical approaches\n",
    "| 2/9  | 4 PM  | EDA | Review/Edit wrangling/EDA; Discuss Analysis Plan   |\n",
    "| 2/16  | 4 PM  | Finalize wrangling/EDA; Begin Analysis | Discuss/edit Analysis; Complete project check-in |\n",
    "| 3/2  | 4 PM  | Complete analysis; Draft results/conclusion/discussion | Discuss/edit full project |\n",
    "| 3/14  | Before 11:59 PM  | NA | Turn in Final Project & Group Project Surveys |"
   ],
   "metadata": {}
  }
 ],
 "metadata": {
  "kernelspec": {
   "display_name": "Python 3 (ipykernel)",
   "language": "python",
   "name": "python3"
  },
  "language_info": {
   "codemirror_mode": {
    "name": "ipython",
    "version": 3
   },
   "file_extension": ".py",
   "mimetype": "text/x-python",
   "name": "python",
   "nbconvert_exporter": "python",
   "pygments_lexer": "ipython3",
   "version": "3.9.7"
  }
 },
 "nbformat": 4,
 "nbformat_minor": 2
}